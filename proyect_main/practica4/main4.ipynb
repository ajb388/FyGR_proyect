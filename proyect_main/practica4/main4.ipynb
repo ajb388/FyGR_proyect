{
 "cells": [
  {
   "cell_type": "code",
   "execution_count": 1,
   "metadata": {},
   "outputs": [],
   "source": [
    "# Nodos hoja\n",
    "e1 = dict ( tipo = \"evento\" , nombre = \"E1\" , prob =0.2 , hijos =[])\n",
    "e2 = dict ( tipo = \"evento\" , nombre = \"E2\" , prob =0.3 , hijos =[])\n",
    "e3 = dict ( tipo = \"evento\" , nombre = \"E3\" , prob =0.3 , hijos =[])\n",
    "# Puerta OR\n",
    "e1e2 = dict ( tipo = \"OR\" , nombre = None , prob = None , hijos =[ e1 , e2 ])\n",
    "# Evento intermedio\n",
    "e4 = dict ( tipo = \"evento\" , nombre = \"E4\" , prob = None , hijos =[ e1e2 ])\n",
    "# Puerta AND\n",
    "e4e3 = dict ( tipo = \"AND\" , nombre = None , prob = None , hijos =[ e4 , e3 ])\n",
    "# Nodo final\n",
    "af = dict ( tipo = \"evento\" , nombre = \"E5\" , prob = None , hijos =[ e4e3 ])\n",
    "arbol = {\n",
    "    \"e1\": e1,\n",
    "    \"e2\": e2,\n",
    "    \"e3\": e3,\n",
    "    \"e1e2\": e1e2,\n",
    "    \"e4\": e4,\n",
    "    \"e4e3\": e4e3,\n",
    "    \"af\": af\n",
    "}"
   ]
  },
  {
   "cell_type": "code",
   "execution_count": 2,
   "metadata": {},
   "outputs": [
    {
     "name": "stdout",
     "output_type": "stream",
     "text": [
      "['e1']\n"
     ]
    }
   ],
   "source": [
    "# Ejercicio 1\n",
    "def buscar_nodo(nodo : dict, nombre : str) -> list[dict]:\n",
    "    lista_nodos = []\n",
    "    for value in nodo:\n",
    "        if value == nombre:\n",
    "            lista_nodos.append(value)\n",
    "            return lista_nodos\n",
    "\n",
    "print(buscar_nodo(arbol, \"e1\"))\n"
   ]
  },
  {
   "cell_type": "code",
   "execution_count": 12,
   "metadata": {},
   "outputs": [
    {
     "name": "stdout",
     "output_type": "stream",
     "text": [
      "Procesador1: 0.15351827510938587\n",
      "Procesador2: 0.15351827510938587\n",
      "DiscoDuro: 0.28346868942621073\n",
      "TarjetaRed1: 0.18126924692201818\n",
      "TarjetaRed2: 0.18126924692201818\n",
      "Fuente1: 0.22119921692859512\n",
      "Fuente2: 0.22119921692859512\n",
      "Servidor: 0.30035579960732517\n"
     ]
    }
   ],
   "source": [
    "# Ejercicio 2\n",
    "def propagacion(nodo: dict) -> None:\n",
    "    for key in nodo:\n",
    "        if nodo[key][\"tipo\"] == \"evento\":\n",
    "            # Si el nodo es un evento y su probabilidad es None, pero tiene hijos\n",
    "            if nodo[key][\"prob\"] is None and nodo[key][\"hijos\"]:\n",
    "                hijo = nodo[key][\"hijos\"][0]\n",
    "                # Si el hijo es una puerta lógica y tiene una probabilidad definida\n",
    "                if hijo[\"tipo\"] in [\"OR\", \"AND\"] and hijo[\"prob\"] is not None:\n",
    "                    nodo[key][\"prob\"] = hijo[\"prob\"]\n",
    "            print(f\"{nodo[key]['nombre']}: {nodo[key]['prob']}\")\n",
    "        elif nodo[key][\"tipo\"] == \"OR\":\n",
    "            # Calcular la probabilidad para la puerta OR\n",
    "            nodo[key][\"prob\"] = 1 - (1 - nodo[key][\"hijos\"][0][\"prob\"]) * (1 - nodo[key][\"hijos\"][1][\"prob\"])\n",
    "        elif nodo[key][\"tipo\"] == \"AND\":\n",
    "            # Calcular la probabilidad para la puerta AND\n",
    "            nodo[key][\"prob\"] = nodo[key][\"hijos\"][0][\"prob\"] * nodo[key][\"hijos\"][1][\"prob\"]\n",
    "        else:\n",
    "            print(\"Error\")\n",
    "\n",
    "propagacion(arbol)"
   ]
  },
  {
   "cell_type": "code",
   "execution_count": 4,
   "metadata": {},
   "outputs": [
    {
     "name": "stdout",
     "output_type": "stream",
     "text": [
      "['E1', 'E2', 'E3', 'OR', 'E4', 'AND', 'E5']\n"
     ]
    }
   ],
   "source": [
    "# Ejercicio 3\n",
    "def nodos(nodo:dict) -> list:\n",
    "    lista_nodos = []\n",
    "    for clave in nodo:\n",
    "        if nodo[clave][\"tipo\"] in [\"OR\", \"AND\"]:\n",
    "            lista_nodos.append(nodo[clave][\"tipo\"])\n",
    "        else:\n",
    "            lista_nodos.append(nodo[clave][\"nombre\"])\n",
    "    return lista_nodos\n",
    "print(nodos(arbol))"
   ]
  },
  {
   "cell_type": "code",
   "execution_count": 5,
   "metadata": {},
   "outputs": [
    {
     "name": "stdout",
     "output_type": "stream",
     "text": [
      "['E1', 'E2', 'E3', 'E4', 'E5']\n"
     ]
    }
   ],
   "source": [
    "# Ejercicio 4\n",
    "def eventos(nodo:dict) -> list:\n",
    "    lista_nodos = []\n",
    "    for clave in nodo:\n",
    "        if nodo[clave][\"tipo\"] == \"evento\":\n",
    "            lista_nodos.append(nodo[clave][\"nombre\"])\n",
    "    return lista_nodos\n",
    "    \n",
    "print(eventos(arbol))"
   ]
  },
  {
   "cell_type": "code",
   "execution_count": 6,
   "metadata": {},
   "outputs": [
    {
     "name": "stdout",
     "output_type": "stream",
     "text": [
      "('OR', 'E1', 'E2')\n",
      "('AND', 'E4', 'E3')\n"
     ]
    }
   ],
   "source": [
    "# Ejercicio 5\n",
    "def evento_info(nodo:dict, nombre:str) -> tuple:\n",
    "    for key, value in nodo.items():\n",
    "        if key == nombre:\n",
    "            if value[\"tipo\"] in [\"OR\", \"AND\"] and len(value[\"hijos\"]) == 2:\n",
    "                return (value[\"tipo\"], value[\"hijos\"][0][\"nombre\"], value[\"hijos\"][1][\"nombre\"])\n",
    "    return None\n",
    "\n",
    "print(evento_info(arbol, \"e1e2\"))\n",
    "print(evento_info(arbol, \"e4e3\"))\n"
   ]
  },
  {
   "cell_type": "code",
   "execution_count": 10,
   "metadata": {},
   "outputs": [
    {
     "name": "stdout",
     "output_type": "stream",
     "text": [
      "BN{nodes: 7, arcs: 4, domainSize: 128, dim: 13, mem: 208o}\n",
      "Inferencia de E5: \n",
      "  E5               |\n",
      "0        |1        |\n",
      "---------|---------|\n",
      " 0.8680  | 0.1320  |\n",
      "\n"
     ]
    }
   ],
   "source": [
    "# Ejercicio 6\n",
    "from pyAgrum import BayesNet\n",
    "from pyAgrum import LazyPropagation\n",
    "import itertools\n",
    "\n",
    "# Función para transformar un nodo en una red bayesiana\n",
    "def transformar(nodo: dict):\n",
    "    red_bayes = BayesNet()\n",
    "    added_nodes = set()  # Conjunto para rastrear nodos añadidos y evitar duplicados\n",
    "\n",
    "    # Función interna para agregar nodos a la red bayesiana\n",
    "    def agregar_nodo(nodo, padre=None):\n",
    "        if nodo[\"tipo\"] == \"evento\":\n",
    "            nombre_evento = nodo[\"nombre\"]\n",
    "            if nombre_evento not in added_nodes:  # Verificar si el nodo ya fue añadido\n",
    "                red_bayes.add(nombre_evento)\n",
    "                added_nodes.add(nombre_evento)  # Marcar como añadido\n",
    "                if nodo[\"prob\"] is not None:\n",
    "                    red_bayes.cpt(nombre_evento).fillWith([1 - nodo[\"prob\"], nodo[\"prob\"]])\n",
    "            if padre is not None:\n",
    "                if not red_bayes.existsArc(nombre_evento, padre):\n",
    "                    red_bayes.addArc(nombre_evento, padre)\n",
    "        elif nodo[\"tipo\"] in [\"AND\", \"OR\"]:\n",
    "            nombre_evento = \"Nodo_\" + str(id(nodo))\n",
    "            if nombre_evento not in added_nodes:  # Verificar si el nodo ya fue añadido\n",
    "                red_bayes.add(nombre_evento)\n",
    "                added_nodes.add(nombre_evento)  # Marcar como añadido\n",
    "        nombres_hijos = []      \n",
    "\n",
    "        for hijo in nodo[\"hijos\"]:\n",
    "            agregar_nodo(hijo, nombre_evento)  # Agregar nodos hijos\n",
    "            nombres_hijos.append(hijo[\"nombre\"])\n",
    "\n",
    "        # Configurar la CPT del nodo compuesto\n",
    "        if nodo[\"tipo\"] == \"AND\":\n",
    "            for values in itertools.product([0, 1], repeat=len(nombres_hijos)):\n",
    "                prob = 1 if all(values) else 0\n",
    "                red_bayes.cpt(nombre_evento)[dict(zip(nombres_hijos, values))] = [1 - prob, prob]\n",
    "        elif nodo[\"tipo\"] == \"OR\":\n",
    "            for values in itertools.product([0, 1], repeat=len(nombres_hijos)):\n",
    "                prob = 1 if any(values) else 0\n",
    "                red_bayes.cpt(nombre_evento)[dict(zip(nombres_hijos, values))] = [1 - prob, prob]\n",
    "\n",
    "    agregar_nodo(nodo)\n",
    "    return red_bayes\n",
    "\n",
    "# Transformar el nodo af en una red bayesiana\n",
    "red_bayes = transformar(af)\n",
    "print(red_bayes)\n",
    "\n",
    "# Realizar inferencia en la red bayesiana\n",
    "inferencia = LazyPropagation(red_bayes)\n",
    "inferencia.makeInference()\n",
    "\n",
    "# Obtener la probabilidad posterior del evento E5\n",
    "probabilidad_E5 = inferencia.posterior(\"E5\")\n",
    "print(f\"Inferencia de E5: {probabilidad_E5}\")\n"
   ]
  },
  {
   "cell_type": "code",
   "execution_count": 8,
   "metadata": {},
   "outputs": [],
   "source": [
    "import math\n",
    "def prob_fallo(mttf, t=1):\n",
    "    return 1 - math.exp(-t / mttf)\n",
    "\n",
    "# Tiempos medios de vida (en años)\n",
    "mttf_procesadores = 6\n",
    "mttf_disco_duro = 3\n",
    "mttf_tarjetas_red = 5\n",
    "mttf_fuentes = 4\n",
    "\n",
    "# Nodos de eventos con probabilidades calculadas\n",
    "procesador1 = dict(tipo=\"evento\", nombre=\"Procesador1\", prob=prob_fallo(mttf_procesadores), hijos=[])\n",
    "procesador2 = dict(tipo=\"evento\", nombre=\"Procesador2\", prob=prob_fallo(mttf_procesadores), hijos=[])\n",
    "disco_duro = dict(tipo=\"evento\", nombre=\"DiscoDuro\", prob=prob_fallo(mttf_disco_duro), hijos=[])\n",
    "tarjeta_red1 = dict(tipo=\"evento\", nombre=\"TarjetaRed1\", prob=prob_fallo(mttf_tarjetas_red), hijos=[])\n",
    "tarjeta_red2 = dict(tipo=\"evento\", nombre=\"TarjetaRed2\", prob=prob_fallo(mttf_tarjetas_red), hijos=[])\n",
    "fuente1 = dict(tipo=\"evento\", nombre=\"Fuente1\", prob=prob_fallo(mttf_fuentes), hijos=[])\n",
    "fuente2 = dict(tipo=\"evento\", nombre=\"Fuente2\", prob=prob_fallo(mttf_fuentes), hijos=[])\n",
    "\n",
    "# Nodos de puertas lógicas\n",
    "procesadores_fallo = dict(tipo=\"AND\", nombre=\"Procesadores_fallo\", prob=None, hijos=[procesador1, procesador2])\n",
    "tarjetas_red_fallo = dict(tipo=\"AND\", nombre=\"Tarjetas_red_fallo\", prob=None, hijos=[tarjeta_red1, tarjeta_red2])\n",
    "fuentes_fallo = dict(tipo=\"AND\", nombre=\"Fuentes_fallo\", prob=None, hijos=[fuente1, fuente2])\n",
    "\n",
    "# Nodo raíz que representa el fallo del sistema\n",
    "servidor_fallo = dict(tipo=\"OR\", nombre=\"Servidor_fallo\", prob=None, hijos=[procesadores_fallo, disco_duro, tarjetas_red_fallo, fuentes_fallo])\n",
    "\n",
    "af_servidor_fallo = dict(tipo=\"evento\", nombre=\"Servidor\", prob=None, hijos=[servidor_fallo])\n"
   ]
  },
  {
   "cell_type": "code",
   "execution_count": 9,
   "metadata": {},
   "outputs": [
    {
     "name": "stdout",
     "output_type": "stream",
     "text": [
      "['fuente1']\n",
      "Procesador1: 0.15351827510938587\n",
      "Procesador2: 0.15351827510938587\n",
      "DiscoDuro: 0.28346868942621073\n",
      "TarjetaRed1: 0.18126924692201818\n",
      "TarjetaRed2: 0.18126924692201818\n",
      "Fuente1: 0.22119921692859512\n",
      "Fuente2: 0.22119921692859512\n",
      "Servidor: 0.30035579960732517\n",
      "['Procesador1', 'Procesador2', 'DiscoDuro', 'TarjetaRed1', 'TarjetaRed2', 'Fuente1', 'Fuente2', 'AND', 'AND', 'AND', 'OR', 'Servidor']\n",
      "['Procesador1', 'Procesador2', 'DiscoDuro', 'TarjetaRed1', 'TarjetaRed2', 'Fuente1', 'Fuente2', 'Servidor']\n",
      "('AND', 'Procesador1', 'Procesador2')\n",
      "('AND', 'TarjetaRed1', 'TarjetaRed2')\n",
      "Agregando nodo de evento: Servidor\n",
      "Agregando nodo compuesto: Nodo_2258791506624\n",
      "Agregando nodo compuesto: Nodo_2258791506944\n",
      "Agregando nodo de evento: Procesador1\n",
      "Agregando arco de Procesador1 a Nodo_2258791506944\n",
      "Agregando nodo de evento: Procesador2\n",
      "Agregando arco de Procesador2 a Nodo_2258791506944\n",
      "Agregando nodo de evento: DiscoDuro\n",
      "Agregando arco de DiscoDuro a Nodo_2258791506624\n",
      "Agregando nodo compuesto: Nodo_2258791506752\n",
      "Agregando nodo de evento: TarjetaRed1\n",
      "Agregando arco de TarjetaRed1 a Nodo_2258791506752\n",
      "Agregando nodo de evento: TarjetaRed2\n",
      "Agregando arco de TarjetaRed2 a Nodo_2258791506752\n",
      "Agregando nodo compuesto: Nodo_2258791506560\n",
      "Agregando nodo de evento: Fuente1\n",
      "Agregando arco de Fuente1 a Nodo_2258791506560\n",
      "Agregando nodo de evento: Fuente2\n",
      "Agregando arco de Fuente2 a Nodo_2258791506560\n",
      "BN{nodes: 12, arcs: 7, domainSize: 4096, dim: 22, mem: 352o}\n",
      "Inferencia del Servidor: \n",
      "  Servidor         |\n",
      "0        |1        |\n",
      "---------|---------|\n",
      " 0.6996  | 0.3004  |\n",
      "\n"
     ]
    }
   ],
   "source": [
    "arbol = {\n",
    "    \"procesador1\": procesador1,\n",
    "    \"procesador2\": procesador2,\n",
    "    \"disco_duro\": disco_duro,\n",
    "    \"tarjeta_red1\": tarjeta_red1,\n",
    "    \"tarjeta_red2\": tarjeta_red2,\n",
    "    \"fuente1\": fuente1,\n",
    "    \"fuente2\": fuente2,\n",
    "    \"procesadores_fallo\": procesadores_fallo,\n",
    "    \"tarjetas_red_fallo\": tarjetas_red_fallo,\n",
    "    \"fuentes_fallo\": fuentes_fallo,\n",
    "    \"servidor_fallo\": servidor_fallo,\n",
    "    \"af_servidor_fallo\": af_servidor_fallo\n",
    "}\n",
    "\n",
    "# Ejercicio 1\n",
    "print(buscar_nodo(arbol, \"fuente1\"))\n",
    "# Ejercicio 2\n",
    "propagacion(arbol)\n",
    "# Ejercicio 3\n",
    "print(nodos(arbol))\n",
    "# Ejercicio 4\n",
    "print(eventos(arbol))\n",
    "# Ejercicio 5\n",
    "print(evento_info(arbol, \"procesadores_fallo\"))\n",
    "print(evento_info(arbol, \"tarjetas_red_fallo\"))\n",
    "# Ejercicio 6\n",
    "red_bayesiana = transformar(af_servidor_fallo)\n",
    "print(red_bayesiana)\n",
    "inferencia = LazyPropagation(red_bayesiana)\n",
    "inferencia.makeInference()\n",
    "probabilidad_Servidor = inferencia.posterior(\"Servidor\")\n",
    "print(f\"Inferencia del Servidor: {probabilidad_Servidor}\")"
   ]
  },
  {
   "cell_type": "code",
   "execution_count": null,
   "metadata": {},
   "outputs": [],
   "source": []
  }
 ],
 "metadata": {
  "kernelspec": {
   "display_name": "Python 3",
   "language": "python",
   "name": "python3"
  },
  "language_info": {
   "codemirror_mode": {
    "name": "ipython",
    "version": 3
   },
   "file_extension": ".py",
   "mimetype": "text/x-python",
   "name": "python",
   "nbconvert_exporter": "python",
   "pygments_lexer": "ipython3",
   "version": "3.13.0"
  }
 },
 "nbformat": 4,
 "nbformat_minor": 2
}
