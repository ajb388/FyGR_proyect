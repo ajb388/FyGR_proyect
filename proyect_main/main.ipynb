{
 "cells": [
  {
   "cell_type": "code",
   "execution_count": 3,
   "metadata": {},
   "outputs": [],
   "source": [
    "import pyAgrum as gum"
   ]
  },
  {
   "cell_type": "code",
   "execution_count": 4,
   "metadata": {},
   "outputs": [],
   "source": [
    "# Crear la red bayesiana\n",
    "bn = gum.BayesNet('SecuritySystem')"
   ]
  },
  {
   "cell_type": "code",
   "execution_count": 5,
   "metadata": {},
   "outputs": [],
   "source": [
    "# Añadir nodos\n",
    "http_requests = bn.add(gum.LabelizedVariable('HTTP_Requests', 'HTTP Requests', 2))\n",
    "attacks = bn.add(gum.LabelizedVariable('Attacks', 'Attacks', 2))\n",
    "serious_failures = bn.add(gum.LabelizedVariable('Serious_Failures', 'Serious Failures', 2))\n",
    "firewall = bn.add(gum.LabelizedVariable('Firewall', 'Firewall', 2))\n",
    "recovery_system = bn.add(gum.LabelizedVariable('Recovery_System', 'Recovery System', 2))"
   ]
  },
  {
   "cell_type": "code",
   "execution_count": 6,
   "metadata": {},
   "outputs": [],
   "source": [
    "# Añadir arcos\n",
    "bn.addArc(http_requests, attacks)\n",
    "bn.addArc(attacks, serious_failures)\n",
    "bn.addArc(firewall, attacks)\n",
    "bn.addArc(recovery_system, serious_failures)"
   ]
  },
  {
   "cell_type": "code",
   "execution_count": null,
   "metadata": {},
   "outputs": [
    {
     "data": {
      "text/plain": [
       "(pyAgrum.Potential@0000024DFB203750) \n",
       "  Recovery_System  |\n",
       "0        |1        |\n",
       "---------|---------|\n",
       " 0.7500  | 0.2500  |"
      ]
     },
     "execution_count": 10,
     "metadata": {},
     "output_type": "execute_result"
    }
   ],
   "source": [
    "# Definir las tablas de probabilidad condicional (CPTs)\n",
    "bn.cpt(http_requests).fillWith([0.9, 0.1])  # 90% no ataques, 10% ataques\n",
    "bn.cpt(attacks)[{'http_requests': 0}] = [0.9, 0.1]  # 90% no ataques si no hay peticiones, 10% ataques\n",
    "bn.cpt(attacks)[{'http_requests': 1}] = [0.5, 0.5]  # 50% no ataques si hay peticiones, 50% ataques\n",
    "bn.cpt(serious_failures)[{'attacks': 0}] = [0.99, 0.01]  # 99% no fallos graves si no hay ataques, 1% fallos graves\n",
    "bn.cpt(serious_failures)[{'attacks': 1}] = [0.5, 0.5]  # 50% no fallos graves si hay ataques, 50% fallos graves\n",
    "bn.cpt(firewall).fillWith([0.75, 0.25])  # 75% firewall activo, 25% no activo\n",
    "bn.cpt(recovery_system).fillWith([0.75, 0.25])  # 75% sistema de recuperación activo, 25% no activo"
   ]
  },
  {
   "cell_type": "code",
   "execution_count": 8,
   "metadata": {},
   "outputs": [],
   "source": [
    "# Crear un objeto de inferencia\n",
    "ie = gum.LazyPropagation(bn)"
   ]
  },
  {
   "cell_type": "code",
   "execution_count": 9,
   "metadata": {},
   "outputs": [
    {
     "ename": "Exception",
     "evalue": "[pyAgrum] Several evidence/CPT are incompatible together (proba=0): some evidence entered into the Bayes net are incompatible (their joint proba = 0)",
     "output_type": "error",
     "traceback": [
      "\u001b[1;31m---------------------------------------------------------------------------\u001b[0m",
      "\u001b[1;31mException\u001b[0m                                 Traceback (most recent call last)",
      "\u001b[1;32m~\\AppData\\Local\\Temp\\ipykernel_37124\\1657663691.py\u001b[0m in \u001b[0;36m?\u001b[1;34m()\u001b[0m\n\u001b[0;32m      1\u001b[0m \u001b[1;31m# Calcular la probabilidad de un fallo grave en cualquier momento\u001b[0m\u001b[1;33m\u001b[0m\u001b[1;33m\u001b[0m\u001b[0m\n\u001b[0;32m      2\u001b[0m \u001b[0mie\u001b[0m\u001b[1;33m.\u001b[0m\u001b[0mmakeInference\u001b[0m\u001b[1;33m(\u001b[0m\u001b[1;33m)\u001b[0m\u001b[1;33m\u001b[0m\u001b[1;33m\u001b[0m\u001b[0m\n\u001b[1;32m----> 3\u001b[1;33m \u001b[0mprob_serious_failure\u001b[0m \u001b[1;33m=\u001b[0m \u001b[0mie\u001b[0m\u001b[1;33m.\u001b[0m\u001b[0mposterior\u001b[0m\u001b[1;33m(\u001b[0m\u001b[0mserious_failures\u001b[0m\u001b[1;33m)\u001b[0m\u001b[1;33m[\u001b[0m\u001b[1;36m1\u001b[0m\u001b[1;33m]\u001b[0m\u001b[1;33m\u001b[0m\u001b[1;33m\u001b[0m\u001b[0m\n\u001b[0m\u001b[0;32m      4\u001b[0m \u001b[0mprint\u001b[0m\u001b[1;33m(\u001b[0m\u001b[1;33mf\"\u001b[0m\u001b[1;33mProbabilidad de un fallo grave en cualquier momento: \u001b[0m\u001b[1;33m{\u001b[0m\u001b[0mprob_serious_failure\u001b[0m\u001b[1;33m}\u001b[0m\u001b[1;33m\"\u001b[0m\u001b[1;33m)\u001b[0m\u001b[1;33m\u001b[0m\u001b[1;33m\u001b[0m\u001b[0m\n",
      "\u001b[1;32mc:\\Users\\adril\\AppData\\Local\\Programs\\Python\\Python313\\Lib\\site-packages\\pyAgrum\\pyAgrum.py\u001b[0m in \u001b[0;36m?\u001b[1;34m(self, *args)\u001b[0m\n\u001b[0;32m  15655\u001b[0m         \u001b[0mpyAgrum\u001b[0m\u001b[1;33m.\u001b[0m\u001b[0mUndefinedElement\u001b[0m\u001b[1;33m\u001b[0m\u001b[1;33m\u001b[0m\u001b[0m\n\u001b[0;32m  15656\u001b[0m           \u001b[0mIf\u001b[0m \u001b[0man\u001b[0m \u001b[0melement\u001b[0m \u001b[0mof\u001b[0m \u001b[0mnodes\u001b[0m \u001b[1;32mis\u001b[0m \u001b[1;32mnot\u001b[0m \u001b[1;32min\u001b[0m \u001b[0mtargets\u001b[0m\u001b[1;33m\u001b[0m\u001b[1;33m\u001b[0m\u001b[0m\n\u001b[0;32m  15657\u001b[0m \u001b[1;33m\u001b[0m\u001b[0m\n\u001b[0;32m  15658\u001b[0m         \"\"\"\n\u001b[1;32m> 15659\u001b[1;33m         \u001b[1;32mreturn\u001b[0m \u001b[0m_pyAgrum\u001b[0m\u001b[1;33m.\u001b[0m\u001b[0mLazyPropagation_posterior\u001b[0m\u001b[1;33m(\u001b[0m\u001b[0mself\u001b[0m\u001b[1;33m,\u001b[0m \u001b[1;33m*\u001b[0m\u001b[0margs\u001b[0m\u001b[1;33m)\u001b[0m\u001b[1;33m\u001b[0m\u001b[1;33m\u001b[0m\u001b[0m\n\u001b[0m",
      "\u001b[1;31mException\u001b[0m: [pyAgrum] Several evidence/CPT are incompatible together (proba=0): some evidence entered into the Bayes net are incompatible (their joint proba = 0)"
     ]
    }
   ],
   "source": [
    "# Calcular la probabilidad de un fallo grave en cualquier momento\n",
    "ie.makeInference()\n",
    "prob_serious_failure = ie.posterior(serious_failures)[1]\n",
    "print(f\"Probabilidad de un fallo grave en cualquier momento: {prob_serious_failure}\")"
   ]
  },
  {
   "cell_type": "code",
   "execution_count": null,
   "metadata": {},
   "outputs": [],
   "source": [
    "# Calcular la probabilidad de un fallo grave sin cortafuegos\n",
    "ie.setEvidence({'Firewall': 1})\n",
    "ie.makeInference()\n",
    "prob_serious_failure_no_firewall = ie.posterior(serious_failures)[1]\n",
    "print(f\"Probabilidad de un fallo grave sin cortafuegos: {prob_serious_failure_no_firewall}\")"
   ]
  },
  {
   "cell_type": "code",
   "execution_count": null,
   "metadata": {},
   "outputs": [],
   "source": [
    "# Función para obtener los nombres de las variables de una red bayesiana\n",
    "def get_variable_names(bn):\n",
    "    return [bn.variable(i).name() for i in bn.nodes()]"
   ]
  },
  {
   "cell_type": "code",
   "execution_count": null,
   "metadata": {},
   "outputs": [],
   "source": [
    "# Función para verificar la independencia marginal entre pares de variables\n",
    "def check_marginal_independence(bn):\n",
    "    independence_results = {}\n",
    "    for var1 in bn.nodes():\n",
    "        for var2 in bn.nodes():\n",
    "            if var1 != var2:\n",
    "                independence_results[(bn.variable(var1).name(), bn.variable(var2).name())] = bn.isIndependent(var1, var2)\n",
    "    return independence_results"
   ]
  },
  {
   "cell_type": "code",
   "execution_count": null,
   "metadata": {},
   "outputs": [],
   "source": [
    "# Obtener nombres de las variables\n",
    "variable_names = get_variable_names(bn)\n",
    "print(f\"Nombres de las variables: {variable_names}\")"
   ]
  },
  {
   "cell_type": "code",
   "execution_count": null,
   "metadata": {},
   "outputs": [],
   "source": [
    "# Verificar independencia marginal entre pares de variables\n",
    "independence_results = check_marginal_independence(bn)\n",
    "for vars_pair, is_independent in independence_results.items():\n",
    "    print(f\"{vars_pair}: {'Independientes' if is_independent else 'Dependientes'}\")"
   ]
  }
 ],
 "metadata": {
  "kernelspec": {
   "display_name": "Python 3",
   "language": "python",
   "name": "python3"
  },
  "language_info": {
   "codemirror_mode": {
    "name": "ipython",
    "version": 3
   },
   "file_extension": ".py",
   "mimetype": "text/x-python",
   "name": "python",
   "nbconvert_exporter": "python",
   "pygments_lexer": "ipython3",
   "version": "3.13.0"
  }
 },
 "nbformat": 4,
 "nbformat_minor": 2
}
