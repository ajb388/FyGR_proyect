{
 "cells": [
  {
   "cell_type": "code",
   "execution_count": 9,
   "metadata": {},
   "outputs": [],
   "source": [
    "import pyAgrum as gum"
   ]
  },
  {
   "cell_type": "code",
   "execution_count": 10,
   "metadata": {},
   "outputs": [],
   "source": [
    "# Crear la red bayesiana\n",
    "bn = gum.BayesNet('SecuritySystem')"
   ]
  },
  {
   "cell_type": "code",
   "execution_count": 11,
   "metadata": {},
   "outputs": [],
   "source": [
    "# Añadir nodos\n",
    "http_requests = bn.add(gum.LabelizedVariable('HTTP_Requests', 'HTTP Requests', 2))\n",
    "attacks = bn.add(gum.LabelizedVariable('Attacks', 'Attacks', 2))\n",
    "serious_failures = bn.add(gum.LabelizedVariable('Serious_Failures', 'Serious Failures', 2))\n",
    "firewall = bn.add(gum.LabelizedVariable('Firewall', 'Firewall', 2))\n",
    "recovery_system = bn.add(gum.LabelizedVariable('Recovery_System', 'Recovery System', 2))"
   ]
  },
  {
   "cell_type": "code",
   "execution_count": 12,
   "metadata": {},
   "outputs": [],
   "source": [
    "# Añadir arcos\n",
    "bn.addArc(http_requests, attacks)\n",
    "bn.addArc(attacks, serious_failures)\n",
    "bn.addArc(firewall, attacks)\n",
    "bn.addArc(recovery_system, serious_failures)"
   ]
  },
  {
   "cell_type": "code",
   "execution_count": 13,
   "metadata": {},
   "outputs": [],
   "source": [
    "# Definir las tablas de probabilidad condicional (CPTs)\n",
    "bn.cpt(http_requests).fillWith([0.1, 0.9])  # 10% ataques, 90% no ataques\n",
    "bn.cpt(firewall).fillWith([0.95, 0.05])  # 95% activo, 5% no activo\n",
    "bn.cpt(recovery_system).fillWith([0.75, 0.25])  # 75% activo, 25% no activo\n",
    "bn.cpt(attacks)[{'Firewall': 0, 'HTTP_Requests': 0}] = [0.25, 0.75]  # 25% no ataques si no hay peticiones y firewall inactivo, 75% ataques\n",
    "bn.cpt(attacks)[{'Firewall': 0, 'HTTP_Requests': 1}] = [0, 1]  # 0% no ataques si hay peticiones y firewall inactivo, 100% ataques\n",
    "bn.cpt(attacks)[{'Firewall': 1, 'HTTP_Requests': 0}] = [1, 0]  # 100% no ataques si no hay peticiones y firewall activo, 0% ataques\n",
    "bn.cpt(attacks)[{'Firewall': 1, 'HTTP_Requests': 1}] = [0, 1]  # 0% no ataques si hay peticiones y firewall activo, 100% ataques\n",
    "bn.cpt(serious_failures)[{'Recovery_System': 0, 'Attacks': 0}] = [0.25, 0.75]  # 25% fallo grave si no hay recuperación y no hay ataques, 75% no fallo\n",
    "bn.cpt(serious_failures)[{'Recovery_System': 0, 'Attacks': 1}] = [0, 1]  # 100% fallo grave si no hay recuperación y hay ataques\n",
    "bn.cpt(serious_failures)[{'Recovery_System': 1, 'Attacks': 0}] = [0.5, 0.5]  # 50% fallo grave si hay recuperación y no hay ataques, 50% no fallo\n",
    "bn.cpt(serious_failures)[{'Recovery_System': 1, 'Attacks': 1}] = [0, 1]  # 100% fallo grave si hay recuperación y hay ataques"
   ]
  },
  {
   "cell_type": "code",
   "execution_count": 14,
   "metadata": {},
   "outputs": [],
   "source": [
    "# Crear un objeto de inferencia\n",
    "ie = gum.LazyPropagation(bn)"
   ]
  },
  {
   "cell_type": "code",
   "execution_count": 17,
   "metadata": {},
   "outputs": [
    {
     "name": "stdout",
     "output_type": "stream",
     "text": [
      "Probabilidad de un fallo grave en cualquier momento: 0.90%\n"
     ]
    }
   ],
   "source": [
    "# Calcular la probabilidad de un fallo grave en cualquier momento\n",
    "ie.makeInference()\n",
    "prob_serious_failure = ie.posterior(serious_failures)[0]\n",
    "print(f\"Probabilidad de un fallo grave en cualquier momento: {prob_serious_failure*100:.2f}%\")"
   ]
  },
  {
   "cell_type": "code",
   "execution_count": 21,
   "metadata": {},
   "outputs": [
    {
     "name": "stdout",
     "output_type": "stream",
     "text": [
      "Probabilidad de un fallo grave sin cortafuegos: 3.12%\n"
     ]
    }
   ],
   "source": [
    "# Calcular la probabilidad de un fallo grave sin cortafuegos\n",
    "ie.setEvidence({'Firewall': 1})\n",
    "ie.makeInference()\n",
    "prob_serious_failure_no_firewall = ie.posterior(serious_failures)[0]\n",
    "print(f\"Probabilidad de un fallo grave sin cortafuegos: {prob_serious_failure_no_firewall*100:.2f}%\")"
   ]
  },
  {
   "cell_type": "code",
   "execution_count": 22,
   "metadata": {},
   "outputs": [],
   "source": [
    "# Función para obtener los nombres de las variables de una red bayesiana\n",
    "def get_variable_names(bn):\n",
    "    return [bn.variable(i).name() for i in bn.nodes()]"
   ]
  },
  {
   "cell_type": "code",
   "execution_count": 29,
   "metadata": {},
   "outputs": [],
   "source": [
    "# Función para verificar la independencia marginal entre pares de variables\n",
    "def check_marginal_independence(bn):\n",
    "    independence_results = {}\n",
    "    for var1 in bn.nodes():\n",
    "        for var2 in bn.nodes():\n",
    "            if var1 != var2:\n",
    "                independence_results[(bn.variable(var1).name(), bn.variable(var2).name())] = bn.isIndependent(var1, var2)\n",
    "    return independence_results"
   ]
  },
  {
   "cell_type": "code",
   "execution_count": 24,
   "metadata": {},
   "outputs": [
    {
     "name": "stdout",
     "output_type": "stream",
     "text": [
      "Nombres de las variables: ['HTTP_Requests', 'Attacks', 'Serious_Failures', 'Firewall', 'Recovery_System']\n"
     ]
    }
   ],
   "source": [
    "# Obtener nombres de las variables\n",
    "variable_names = get_variable_names(bn)\n",
    "print(f\"Nombres de las variables: {variable_names}\")"
   ]
  },
  {
   "cell_type": "code",
   "execution_count": 25,
   "metadata": {},
   "outputs": [
    {
     "name": "stdout",
     "output_type": "stream",
     "text": [
      "('HTTP_Requests', 'Attacks'): Dependientes\n",
      "('HTTP_Requests', 'Serious_Failures'): Dependientes\n",
      "('HTTP_Requests', 'Firewall'): Independientes\n",
      "('HTTP_Requests', 'Recovery_System'): Independientes\n",
      "('Attacks', 'HTTP_Requests'): Dependientes\n",
      "('Attacks', 'Serious_Failures'): Dependientes\n",
      "('Attacks', 'Firewall'): Dependientes\n",
      "('Attacks', 'Recovery_System'): Independientes\n",
      "('Serious_Failures', 'HTTP_Requests'): Dependientes\n",
      "('Serious_Failures', 'Attacks'): Dependientes\n",
      "('Serious_Failures', 'Firewall'): Dependientes\n",
      "('Serious_Failures', 'Recovery_System'): Dependientes\n",
      "('Firewall', 'HTTP_Requests'): Independientes\n",
      "('Firewall', 'Attacks'): Dependientes\n",
      "('Firewall', 'Serious_Failures'): Dependientes\n",
      "('Firewall', 'Recovery_System'): Independientes\n",
      "('Recovery_System', 'HTTP_Requests'): Independientes\n",
      "('Recovery_System', 'Attacks'): Independientes\n",
      "('Recovery_System', 'Serious_Failures'): Dependientes\n",
      "('Recovery_System', 'Firewall'): Independientes\n"
     ]
    }
   ],
   "source": [
    "# Verificar independencia marginal entre pares de variables\n",
    "independence_results = check_marginal_independence(bn)\n",
    "for vars_pair, is_independent in independence_results.items():\n",
    "    print(f\"{vars_pair}: {'Independientes' if is_independent else 'Dependientes'}\")"
   ]
  }
 ],
 "metadata": {
  "kernelspec": {
   "display_name": "Python 3",
   "language": "python",
   "name": "python3"
  },
  "language_info": {
   "codemirror_mode": {
    "name": "ipython",
    "version": 3
   },
   "file_extension": ".py",
   "mimetype": "text/x-python",
   "name": "python",
   "nbconvert_exporter": "python",
   "pygments_lexer": "ipython3",
   "version": "3.13.0"
  }
 },
 "nbformat": 4,
 "nbformat_minor": 2
}
